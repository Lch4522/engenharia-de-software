{
  "nbformat": 4,
  "nbformat_minor": 0,
  "metadata": {
    "colab": {
      "provenance": [],
      "collapsed_sections": [
        "eLno9T9JPzCk"
      ],
      "include_colab_link": true
    },
    "kernelspec": {
      "name": "python3",
      "display_name": "Python 3"
    },
    "language_info": {
      "name": "python"
    }
  },
  "cells": [
    {
      "cell_type": "markdown",
      "metadata": {
        "id": "view-in-github",
        "colab_type": "text"
      },
      "source": [
        "<a href=\"https://colab.research.google.com/github/dipucriodigital/engenharia-de-software/blob/main/programacao-orientada-a-objetos/POO_Exercicios_Praticos_Imoveis_SEM_GABARITO.ipynb\" target=\"_parent\"><img src=\"https://colab.research.google.com/assets/colab-badge.svg\" alt=\"Open In Colab\"/></a>"
      ]
    },
    {
      "cell_type": "markdown",
      "source": [
        "# Programação Orientada a Objetos\n",
        "## Prof. Marcos Kalinowski\n",
        "## Prof. Assistente Antonio Pedro\n",
        "\n",
        "---\n",
        "\n",
        "## Aula Prática de Exercícios"
      ],
      "metadata": {
        "id": "sQaoCezowYOq"
      }
    },
    {
      "cell_type": "markdown",
      "source": [
        "## Prática 1)\n",
        "\n",
        "Vamos criar uma administradora de imóveis que armazene os imóveis sob sua administração e imprima a lista destes imóveis cadastrados no seguinte formato:\n",
        "\n",
        "*Imóvel localizado em **endereço** (**cep**) pertence a **nome do proprietário**. Contato: **telefone do proprietário**.*\n",
        "\n",
        "Sendo que:\n",
        "- Todo **Imóvel** tem os atributos *endereco*, *cep*, *valor*.\n",
        "- Todo imóvel tem um **Proprietário** que deve ter *nome_completo*, *cpf*, *telefone*."
      ],
      "metadata": {
        "id": "aqFy2Y8gWO1q"
      }
    },
    {
      "cell_type": "code",
      "source": [],
      "metadata": {
        "id": "0Dyk6HR80FsC"
      },
      "execution_count": null,
      "outputs": []
    },
    {
      "cell_type": "markdown",
      "source": [
        "## Prática 2)\n",
        "\n",
        "Altere seu programa da Prática 1 tornando a classe **Imovel** abstrata, com o método *formatar_info_imovel* também abstrato. Crie na classe **Imovel** métodos públicos para permitir a consulta das variáveis de instância non-public nas subclasses.\n",
        "\n",
        "Crie duas subclasses de Imóvel: **Apartamento** deve ter os atributos *andar* e *tem_elevador*, enquanto **Casa** o atributo *area_externa*. Implemente em cada uma das classes a sua versão específica do método *formatar_info_imovel* (use a criatividade para tratar os novos atributos).\n",
        "\n",
        "Teste o programa criando imóveis, adicionando-os ao catálogo da administradora e imprimindo a lista de imóveis cadastrados."
      ],
      "metadata": {
        "id": "_K85F0acthsw"
      }
    },
    {
      "cell_type": "code",
      "source": [],
      "metadata": {
        "id": "mB1F6IDd78Zs"
      },
      "execution_count": null,
      "outputs": []
    },
    {
      "cell_type": "markdown",
      "source": [
        "## Prática 3)\n",
        "\n",
        "Altere seu programa da Prática 2 para:\n",
        "- permitir saber qual é o imóvel mais caro\n",
        "- dado um proprietário, saber quais são os imóveis dele"
      ],
      "metadata": {
        "id": "faFLDvMbtuEf"
      }
    },
    {
      "cell_type": "code",
      "source": [],
      "metadata": {
        "id": "LiQuQMWrF9B5"
      },
      "execution_count": null,
      "outputs": []
    },
    {
      "cell_type": "markdown",
      "source": [
        "## Bônus (fora do escopo da disciplina)!\n",
        "\n",
        "Conexão do Python com Banco de Dados SQLite"
      ],
      "metadata": {
        "id": "eLno9T9JPzCk"
      }
    },
    {
      "cell_type": "code",
      "source": [
        "# importação da bibloteca do SQLite\n",
        "import sqlite3 # importando sem alias\n",
        "\n",
        "# criar conexão (irá criar ou abrir o arquivo .db do banco de dados)\n",
        "con = sqlite3.connect(\"carsdb.db\")\n",
        "\n",
        "# o cursor permite percorrer os registros de um banco de dados\n",
        "c = con.cursor()\n",
        "\n",
        "# criar uma tabela\n",
        "c.execute(\"create table if not exists cars(brand text, price text)\")\n",
        "\n",
        "# inserir registros na tabela\n",
        "c.execute(\"insert into cars (brand, price) values ('bmw', 3000)\")\n",
        "c.execute(\"insert into cars (brand, price) values ('etios', 1000)\")\n",
        "\n",
        "# fazer o commit\n",
        "con.commit()\n",
        "\n",
        "# executar select * na tabela\n",
        "result = c.execute(\"select * from cars\")\n",
        "\n",
        "# imprimir a primeira linha do select\n",
        "#print(result.fetchone())\n",
        "\n",
        "# imprimir TODAS as linhas da tabela\n",
        "print(result.fetchall())\n",
        "\n",
        "# fechar a conexão\n",
        "con.close()"
      ],
      "metadata": {
        "id": "yTmQPHCOwlpv",
        "colab": {
          "base_uri": "https://localhost:8080/"
        },
        "outputId": "84c09d7d-7c48-4734-f59a-f24369691df3"
      },
      "execution_count": null,
      "outputs": [
        {
          "output_type": "stream",
          "name": "stdout",
          "text": [
            "[('bmw', '3000'), ('etios', '1000')]\n"
          ]
        }
      ]
    }
  ]
}