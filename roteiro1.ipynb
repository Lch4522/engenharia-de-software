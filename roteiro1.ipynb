{
  "nbformat": 4,
  "nbformat_minor": 0,
  "metadata": {
    "colab": {
      "provenance": [],
      "authorship_tag": "ABX9TyNpbvF5w3Vc2xgiau63kRFr",
      "include_colab_link": true
    },
    "kernelspec": {
      "name": "python3",
      "display_name": "Python 3"
    },
    "language_info": {
      "name": "python"
    }
  },
  "cells": [
    {
      "cell_type": "markdown",
      "metadata": {
        "id": "view-in-github",
        "colab_type": "text"
      },
      "source": [
        "<a href=\"https://colab.research.google.com/github/dipucriodigital/engenharia-de-software/blob/main/roteiro1.ipynb\" target=\"_parent\"><img src=\"https://colab.research.google.com/assets/colab-badge.svg\" alt=\"Open In Colab\"/></a>"
      ]
    },
    {
      "cell_type": "code",
      "execution_count": null,
      "metadata": {
        "id": "TTmHk1XA57zr"
      },
      "outputs": [],
      "source": [
        "cont = 1\n",
        "qtdNotas = 0\n",
        "somaNotas = 0\n",
        "while cont < 5:\n",
        "    nota = float(input(f'Digite a nota do {cont}º aluno: '))\n",
        "    if nota < 4:\n",
        "        somaNotas = somaNotas + nota\n",
        "        qtdNotas = qtdNotas + 1\n",
        "    cont = cont + 1\n",
        "print(f'Média dos alunos com notas abaixo de 4: {somaNotas / qtdNotas:.1f}')"
      ]
    }
  ]
}